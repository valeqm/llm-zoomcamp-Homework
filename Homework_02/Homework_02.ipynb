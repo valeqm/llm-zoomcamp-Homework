{
 "cells": [
  {
   "cell_type": "markdown",
   "id": "f7a6608b",
   "metadata": {},
   "source": [
    "## Q1. Embedding the query"
   ]
  },
  {
   "cell_type": "code",
   "execution_count": 3,
   "id": "fbaf53f2",
   "metadata": {},
   "outputs": [],
   "source": [
    "from qdrant_client import QdrantClient, models\n",
    "from fastembed import TextEmbedding\n",
    "import numpy as np\n",
    "\n",
    "client = QdrantClient(\"http://localhost:6333\") #connecting to local Qdrant instance"
   ]
  },
  {
   "cell_type": "code",
   "execution_count": 13,
   "id": "69d8b8d7",
   "metadata": {},
   "outputs": [
    {
     "name": "stdout",
     "output_type": "stream",
     "text": [
      "Shape: 512\n",
      "Min value: -0.11726373885183883\n"
     ]
    }
   ],
   "source": [
    "\n",
    "model = TextEmbedding(model_name=\"jinaai/jina-embeddings-v2-small-en\")\n",
    "\n",
    "query = [\"I just discovered the course. Can I join now?\"]\n",
    "\n",
    "embeddings = next(model.embed(query))\n",
    "\n",
    "embedding_array = np.array(embeddings)\n",
    "\n",
    "print(\"Shape:\", len(embedding_array))\n",
    "print(\"Min value:\", embedding_array.min())\n"
   ]
  },
  {
   "cell_type": "markdown",
   "id": "d6e1b8bf",
   "metadata": {},
   "source": [
    "## Q2. Cosine similarity with another vector"
   ]
  },
  {
   "cell_type": "code",
   "execution_count": 14,
   "id": "db360350",
   "metadata": {},
   "outputs": [
    {
     "name": "stdout",
     "output_type": "stream",
     "text": [
      "Cosine similarity: 0.9008528895674547\n"
     ]
    }
   ],
   "source": [
    "doc = 'Can I still join the course after the start date?'\n",
    "\n",
    "embeddings_doc = next(model.embed([doc]))\n",
    "\n",
    "embedding_doc_array = np.array(embeddings_doc)\n",
    "\n",
    "cos_sim = np.dot(embedding_array, embedding_doc_array)\n",
    "print(\"Cosine similarity:\", cos_sim)"
   ]
  },
  {
   "cell_type": "markdown",
   "id": "3a9676ff",
   "metadata": {},
   "source": [
    "## Q3. Ranking by cosine"
   ]
  },
  {
   "cell_type": "code",
   "execution_count": 15,
   "id": "71121d53",
   "metadata": {},
   "outputs": [],
   "source": [
    "documents = [{'text': \"Yes, even if you don't register, you're still eligible to submit the homeworks.\\nBe aware, however, that there will be deadlines for turning in the final projects. So don't leave everything for the last minute.\",\n",
    "  'section': 'General course-related questions',\n",
    "  'question': 'Course - Can I still join the course after the start date?',\n",
    "  'course': 'data-engineering-zoomcamp'},\n",
    " {'text': 'Yes, we will keep all the materials after the course finishes, so you can follow the course at your own pace after it finishes.\\nYou can also continue looking at the homeworks and continue preparing for the next cohort. I guess you can also start working on your final capstone project.',\n",
    "  'section': 'General course-related questions',\n",
    "  'question': 'Course - Can I follow the course after it finishes?',\n",
    "  'course': 'data-engineering-zoomcamp'},\n",
    " {'text': \"The purpose of this document is to capture frequently asked technical questions\\nThe exact day and hour of the course will be 15th Jan 2024 at 17h00. The course will start with the first  “Office Hours'' live.1\\nSubscribe to course public Google Calendar (it works from Desktop only).\\nRegister before the course starts using this link.\\nJoin the course Telegram channel with announcements.\\nDon’t forget to register in DataTalks.Club's Slack and join the channel.\",\n",
    "  'section': 'General course-related questions',\n",
    "  'question': 'Course - When will the course start?',\n",
    "  'course': 'data-engineering-zoomcamp'},\n",
    " {'text': 'You can start by installing and setting up all the dependencies and requirements:\\nGoogle cloud account\\nGoogle Cloud SDK\\nPython 3 (installed with Anaconda)\\nTerraform\\nGit\\nLook over the prerequisites and syllabus to see if you are comfortable with these subjects.',\n",
    "  'section': 'General course-related questions',\n",
    "  'question': 'Course - What can I do before the course starts?',\n",
    "  'course': 'data-engineering-zoomcamp'},\n",
    " {'text': 'Star the repo! Share it with friends if you find it useful ❣️\\nCreate a PR if you see you can improve the text or the structure of the repository.',\n",
    "  'section': 'General course-related questions',\n",
    "  'question': 'How can we contribute to the course?',\n",
    "  'course': 'data-engineering-zoomcamp'}]"
   ]
  },
  {
   "cell_type": "code",
   "execution_count": 20,
   "id": "ec20ab08",
   "metadata": {},
   "outputs": [
    {
     "name": "stdout",
     "output_type": "stream",
     "text": [
      "Cosine similarities: [0.7629684696540235, 0.8182378150042888, 0.8085397398734189, 0.7133079015686243, 0.7304499234333599]\n",
      "index: 1\n"
     ]
    }
   ],
   "source": [
    "doc_texts = [doc['text'] for doc in documents]\n",
    "doc_embeddings = list(model.embed(doc_texts))\n",
    "\n",
    "similarities = [np.dot(embedding_array, np.array(doc_vec)) for doc_vec in doc_embeddings]\n",
    "\n",
    "doc_index = int(np.argmax(similarities))\n",
    "\n",
    "print(\"Cosine similarities:\", similarities)\n",
    "print(\"index:\", doc_index)"
   ]
  },
  {
   "cell_type": "markdown",
   "id": "f6ff2670",
   "metadata": {},
   "source": [
    "## Q4. Ranking by cosine, version two"
   ]
  },
  {
   "cell_type": "code",
   "execution_count": 22,
   "id": "95632dda",
   "metadata": {},
   "outputs": [],
   "source": [
    "full_texts = [doc['question'] + ' ' + doc['text'] for doc in documents]"
   ]
  },
  {
   "cell_type": "code",
   "execution_count": 23,
   "id": "d8374b29",
   "metadata": {},
   "outputs": [
    {
     "name": "stdout",
     "output_type": "stream",
     "text": [
      "Cosine similarities: [0.8514543236908066, 0.8436594159113069, 0.8408287048502558, 0.7755157969663908, 0.8086007795043937]\n",
      "index: 0\n"
     ]
    }
   ],
   "source": [
    "full_embeddings = list(model.embed(full_texts))\n",
    "\n",
    "full_similarities = [np.dot(embedding_array, np.array(doc_vec)) for doc_vec in full_embeddings]\n",
    "\n",
    "full_index = int(np.argmax(full_similarities))\n",
    "\n",
    "print(\"Cosine similarities:\", full_similarities)\n",
    "print(\"index:\", full_index)"
   ]
  },
  {
   "cell_type": "markdown",
   "id": "c4c7c0d4",
   "metadata": {},
   "source": [
    "## Q5. Selecting the embedding model"
   ]
  },
  {
   "cell_type": "code",
   "execution_count": 28,
   "id": "8a9d1b5d",
   "metadata": {},
   "outputs": [
    {
     "name": "stdout",
     "output_type": "stream",
     "text": [
      "BAAI/bge-small-en 384\n"
     ]
    }
   ],
   "source": [
    "models_list = TextEmbedding.list_supported_models()\n",
    "\n",
    "smallest = min(models_list, key=lambda m: m['dim'])\n",
    "print(smallest['model'], smallest['dim'])\n"
   ]
  },
  {
   "cell_type": "markdown",
   "id": "126c1739",
   "metadata": {},
   "source": [
    "## Q6. Indexing with qdrant"
   ]
  },
  {
   "cell_type": "code",
   "execution_count": 29,
   "id": "dac7eccf",
   "metadata": {},
   "outputs": [],
   "source": [
    "import requests \n",
    "\n",
    "docs_url = 'https://github.com/alexeygrigorev/llm-rag-workshop/raw/main/notebooks/documents.json'\n",
    "docs_response = requests.get(docs_url)\n",
    "documents_raw = docs_response.json()\n",
    "\n",
    "\n",
    "documents = []\n",
    "\n",
    "for course in documents_raw:\n",
    "    course_name = course['course']\n",
    "    if course_name != 'machine-learning-zoomcamp':\n",
    "        continue\n",
    "\n",
    "    for doc in course['documents']:\n",
    "        doc['course'] = course_name\n",
    "        documents.append(doc)"
   ]
  },
  {
   "cell_type": "code",
   "execution_count": 30,
   "id": "b840cc96",
   "metadata": {},
   "outputs": [],
   "source": [
    "EMBEDDING_DIMENSIONALITY=384"
   ]
  },
  {
   "cell_type": "code",
   "execution_count": 31,
   "id": "3e586508",
   "metadata": {},
   "outputs": [
    {
     "data": {
      "text/plain": [
       "True"
      ]
     },
     "execution_count": 31,
     "metadata": {},
     "output_type": "execute_result"
    }
   ],
   "source": [
    "# Define the collection name\n",
    "collection_name = \"ml-zoomcamp\"\n",
    "\n",
    "# Create the collection with specified vector parameters\n",
    "client.create_collection(\n",
    "    collection_name=collection_name,\n",
    "    vectors_config=models.VectorParams(\n",
    "        size=EMBEDDING_DIMENSIONALITY,  # Dimensionality of the vectors\n",
    "        distance=models.Distance.COSINE  # Distance metric for similarity search\n",
    "    )\n",
    ")"
   ]
  },
  {
   "cell_type": "code",
   "execution_count": 35,
   "id": "c24b4342",
   "metadata": {},
   "outputs": [],
   "source": [
    "points = []\n",
    "id = 0\n",
    "model_handle=\"BAAI/bge-small-en\"\n",
    "for course in documents_raw:\n",
    "    for doc in course['documents']:\n",
    "        text = doc['question'] + ' ' + doc['text']\n",
    "        point = models.PointStruct(\n",
    "            id=id,\n",
    "            vector=models.Document(text=text, model=model_handle),\n",
    "            payload=doc\n",
    "        )\n",
    "        points.append(point)\n",
    "\n",
    "        id += 1"
   ]
  },
  {
   "cell_type": "code",
   "execution_count": 48,
   "id": "43fd92e3",
   "metadata": {},
   "outputs": [
    {
     "data": {
      "text/plain": [
       "UpdateResult(operation_id=2, status=<UpdateStatus.COMPLETED: 'completed'>)"
      ]
     },
     "execution_count": 48,
     "metadata": {},
     "output_type": "execute_result"
    }
   ],
   "source": [
    "client.upsert(\n",
    "    collection_name=collection_name,\n",
    "    points=points\n",
    ")"
   ]
  },
  {
   "cell_type": "code",
   "execution_count": 57,
   "id": "ff178b6a",
   "metadata": {},
   "outputs": [
    {
     "name": "stdout",
     "output_type": "stream",
     "text": [
      "0.8703172\n"
     ]
    }
   ],
   "source": [
    "results = client.query_points(\n",
    "    collection_name=collection_name,\n",
    "    query=models.Document(\n",
    "        text=\"I just discovered the course. Can I join now?\",\n",
    "        model=model_handle \n",
    "    ),\n",
    "    limit=1, # top closest matches\n",
    "    with_payload=True #to get metadata in the results\n",
    ")\n",
    "\n",
    "score = results.points[0].score\n",
    "print(score)\n"
   ]
  }
 ],
 "metadata": {
  "kernelspec": {
   "display_name": "Python 3",
   "language": "python",
   "name": "python3"
  },
  "language_info": {
   "codemirror_mode": {
    "name": "ipython",
    "version": 3
   },
   "file_extension": ".py",
   "mimetype": "text/x-python",
   "name": "python",
   "nbconvert_exporter": "python",
   "pygments_lexer": "ipython3",
   "version": "3.12.3"
  }
 },
 "nbformat": 4,
 "nbformat_minor": 5
}
